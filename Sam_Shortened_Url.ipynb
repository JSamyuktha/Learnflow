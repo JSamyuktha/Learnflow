{
  "nbformat": 4,
  "nbformat_minor": 0,
  "metadata": {
    "colab": {
      "provenance": []
    },
    "kernelspec": {
      "name": "python3",
      "display_name": "Python 3"
    },
    "language_info": {
      "name": "python"
    }
  },
  "cells": [
    {
      "cell_type": "markdown",
      "source": [
        "##Install necessary packages"
      ],
      "metadata": {
        "id": "Awzeyce3mZXy"
      }
    },
    {
      "cell_type": "code",
      "source": [
        "!pip install pyshorteners\n",
        "!pip install pyperclip\n"
      ],
      "metadata": {
        "colab": {
          "base_uri": "https://localhost:8080/"
        },
        "id": "IZy10vrZlLbK",
        "outputId": "887432d2-a8d2-467b-db48-56d53e1a6a99"
      },
      "execution_count": null,
      "outputs": [
        {
          "output_type": "stream",
          "name": "stdout",
          "text": [
            "Collecting pyshorteners\n",
            "  Downloading pyshorteners-1.0.1.tar.gz (10.0 kB)\n",
            "  Preparing metadata (setup.py) ... \u001b[?25l\u001b[?25hdone\n",
            "Requirement already satisfied: requests in /usr/local/lib/python3.10/dist-packages (from pyshorteners) (2.31.0)\n",
            "Requirement already satisfied: charset-normalizer<4,>=2 in /usr/local/lib/python3.10/dist-packages (from requests->pyshorteners) (3.3.2)\n",
            "Requirement already satisfied: idna<4,>=2.5 in /usr/local/lib/python3.10/dist-packages (from requests->pyshorteners) (3.6)\n",
            "Requirement already satisfied: urllib3<3,>=1.21.1 in /usr/local/lib/python3.10/dist-packages (from requests->pyshorteners) (2.0.7)\n",
            "Requirement already satisfied: certifi>=2017.4.17 in /usr/local/lib/python3.10/dist-packages (from requests->pyshorteners) (2023.11.17)\n",
            "Building wheels for collected packages: pyshorteners\n",
            "  Building wheel for pyshorteners (setup.py) ... \u001b[?25l\u001b[?25hdone\n",
            "  Created wheel for pyshorteners: filename=pyshorteners-1.0.1-py3-none-any.whl size=17481 sha256=8fb6f88ef7ca6ddc354293c108d8c28b81a6c966ca9dcdf21e0b5fdeebdc5847\n",
            "  Stored in directory: /root/.cache/pip/wheels/d5/ff/b3/16d8906f92ab0b042f76a4696fcea11d291d79a2b3a3de1e78\n",
            "Successfully built pyshorteners\n",
            "Installing collected packages: pyshorteners\n",
            "Successfully installed pyshorteners-1.0.1\n",
            "Requirement already satisfied: pyperclip in /usr/local/lib/python3.10/dist-packages (1.8.2)\n"
          ]
        }
      ]
    },
    {
      "cell_type": "markdown",
      "source": [
        "##Get user input"
      ],
      "metadata": {
        "id": "QZyK5Nt2muZl"
      }
    },
    {
      "cell_type": "code",
      "source": [
        "import pyshorteners\n",
        "import pyperclip\n",
        "\n",
        "def get_user_input():\n",
        "    \"\"\"\n",
        "    Prompt the user to enter a URL and return it.\n",
        "    \"\"\"\n",
        "    url = input('Enter the URL to shorten: ')\n",
        "    return url.strip()\n"
      ],
      "metadata": {
        "id": "3-Sgwk7QmXyD"
      },
      "execution_count": null,
      "outputs": []
    },
    {
      "cell_type": "markdown",
      "source": [
        "##Defining shortened Url"
      ],
      "metadata": {
        "id": "TPdwSRQNm-1i"
      }
    },
    {
      "cell_type": "code",
      "source": [
        "def shorten_url(url):\n",
        "    \"\"\"\n",
        "    Shorten the provided URL using the pyshorteners library.\n",
        "    \"\"\"\n",
        "    try:\n",
        "        # Create a Shortener object\n",
        "        s = pyshorteners.Shortener()\n",
        "\n",
        "        # Shorten the URL using the tinyurl service\n",
        "        short_url = s.tinyurl.short(url)\n",
        "\n",
        "        return short_url\n",
        "    except Exception as e:\n",
        "        print(f\"Error: {e}\")\n",
        "        return None\n"
      ],
      "metadata": {
        "id": "75YwGl_5m6Hj"
      },
      "execution_count": null,
      "outputs": []
    },
    {
      "cell_type": "markdown",
      "source": [
        "##Main Function"
      ],
      "metadata": {
        "id": "WAaFOqHXnQH9"
      }
    },
    {
      "cell_type": "code",
      "source": [
        "def main():\n",
        "    \"\"\"\n",
        "    Main function to execute the URL shortening process.\n",
        "    \"\"\"\n",
        "    print(\"Welcome to the URL Shortening Tool!\")\n",
        "\n",
        "    # Get user input\n",
        "    original_url = get_user_input()\n",
        "\n",
        "    # Shorten the URL\n",
        "    shortened_url = shorten_url(original_url)\n",
        "\n",
        "    if shortened_url:\n",
        "        print(f\"\\nShortened URL: {shortened_url}\")\n",
        "\n",
        "    else:\n",
        "        print(\"URL shortening failed. Please check the provided URL.\")\n",
        "\n",
        "if __name__ == \"__main__\":\n",
        "    main()"
      ],
      "metadata": {
        "colab": {
          "base_uri": "https://localhost:8080/"
        },
        "id": "zO3WUNhqnT7D",
        "outputId": "84db6d9c-fd91-471f-eb5b-f08f0f00042a"
      },
      "execution_count": null,
      "outputs": [
        {
          "output_type": "stream",
          "name": "stdout",
          "text": [
            "Welcome to the URL Shortening Tool!\n",
            "Enter the URL to shorten: https://www.amazon.in/Apple-iPhone-15-Pro-TB/dp/B0CHX8SYQJ/ref=sr_1_2_sspa?crid=VUUZF2UM7BM0&keywords=iphone+15+pro+max&qid=1705655617&sprefix=iphone%2Caps%2C220&sr=8-2-spons&sp_csd=d2lkZ2V0TmFtZT1zcF9hdGY&psc=1\n",
            "\n",
            "Shortened URL: http://tinyurl.com/yrv26v79\n"
          ]
        }
      ]
    }
  ]
}