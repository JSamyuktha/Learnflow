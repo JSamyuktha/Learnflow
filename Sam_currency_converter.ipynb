{
  "nbformat": 4,
  "nbformat_minor": 0,
  "metadata": {
    "colab": {
      "provenance": []
    },
    "kernelspec": {
      "name": "python3",
      "display_name": "Python 3"
    },
    "language_info": {
      "name": "python"
    }
  },
  "cells": [
    {
      "cell_type": "markdown",
      "source": [
        "##User Input"
      ],
      "metadata": {
        "id": "pLwpzOJdtXy5"
      }
    },
    {
      "cell_type": "code",
      "source": [
        "import requests"
      ],
      "metadata": {
        "id": "yXe2W_zos8jN"
      },
      "execution_count": null,
      "outputs": []
    },
    {
      "cell_type": "markdown",
      "source": [
        "##Get Source Currency"
      ],
      "metadata": {
        "id": "htKQ2vPvthBS"
      }
    },
    {
      "cell_type": "code",
      "source": [
        "source_currency = str(\n",
        "    input(\"Enter the source currency: \")).upper()"
      ],
      "metadata": {
        "colab": {
          "base_uri": "https://localhost:8080/"
        },
        "id": "u0usd8aMtgep",
        "outputId": "4cfcb78a-9ba6-4bfc-90e6-5027ed38ca30"
      },
      "execution_count": null,
      "outputs": [
        {
          "name": "stdout",
          "output_type": "stream",
          "text": [
            "Enter the source currency: INR\n"
          ]
        }
      ]
    },
    {
      "cell_type": "markdown",
      "source": [
        "##Get Target Currency"
      ],
      "metadata": {
        "id": "3rdp9tootz4m"
      }
    },
    {
      "cell_type": "code",
      "source": [
        "target_currency = str(\n",
        "    input(\"Enter the target currency: \")).upper()"
      ],
      "metadata": {
        "colab": {
          "base_uri": "https://localhost:8080/"
        },
        "id": "EE0a7tAStzTL",
        "outputId": "f46e9b84-fdb7-4cd9-b6a7-7243f949a3bd"
      },
      "execution_count": null,
      "outputs": [
        {
          "name": "stdout",
          "output_type": "stream",
          "text": [
            "Enter the target currency: USD\n"
          ]
        }
      ]
    },
    {
      "cell_type": "markdown",
      "source": [
        "##Get Amount from user"
      ],
      "metadata": {
        "id": "ld0x4_UHt_op"
      }
    },
    {
      "cell_type": "code",
      "source": [
        "amount_to_convert = float(input(\"Enter the amount to convert: \"))\n"
      ],
      "metadata": {
        "colab": {
          "base_uri": "https://localhost:8080/"
        },
        "id": "P7az9rO8t9E0",
        "outputId": "cdeda4d2-2146-49ee-ec17-b954da117445"
      },
      "execution_count": null,
      "outputs": [
        {
          "name": "stdout",
          "output_type": "stream",
          "text": [
            "Enter the amount to convert: 25000\n"
          ]
        }
      ]
    },
    {
      "cell_type": "markdown",
      "source": [
        "##Currency Conversion"
      ],
      "metadata": {
        "id": "L66PddoKuQXg"
      }
    },
    {
      "cell_type": "code",
      "source": [
        "response_data = requests.get(\n",
        "    f\"https://api.frankfurter.app/latest?amount={amount_to_convert}&from={source_currency}&to={target_currency}\")\n"
      ],
      "metadata": {
        "id": "BFRVZYi4uUyS"
      },
      "execution_count": null,
      "outputs": []
    },
    {
      "cell_type": "markdown",
      "source": [
        "##Output"
      ],
      "metadata": {
        "id": "7LU1ZBOOuds5"
      }
    },
    {
      "cell_type": "code",
      "source": [
        "print(\n",
        "    f\"{amount_to_convert} {source_currency} converts to {response_data.json()['rates'][target_currency]} {target_currency}\")"
      ],
      "metadata": {
        "colab": {
          "base_uri": "https://localhost:8080/"
        },
        "id": "1hiA8Ik3ubO4",
        "outputId": "e7eeff9d-9086-4c30-e271-7431ab0e7416"
      },
      "execution_count": null,
      "outputs": [
        {
          "output_type": "stream",
          "name": "stdout",
          "text": [
            "25000.0 INR converts to 300.71 USD\n"
          ]
        }
      ]
    }
  ]
}