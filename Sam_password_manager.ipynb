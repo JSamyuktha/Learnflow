{
  "nbformat": 4,
  "nbformat_minor": 0,
  "metadata": {
    "colab": {
      "provenance": [],
      "authorship_tag": "ABX9TyPJqppktkPvT6BKXyX+7/YJ"
    },
    "kernelspec": {
      "name": "python3",
      "display_name": "Python 3"
    },
    "language_info": {
      "name": "python"
    }
  },
  "cells": [
    {
      "cell_type": "code",
      "execution_count": null,
      "metadata": {
        "colab": {
          "base_uri": "https://localhost:8080/"
        },
        "id": "QLGkRgzYA01b",
        "outputId": "7c350815-0776-41a9-9a21-fe0744c8e005"
      },
      "outputs": [
        {
          "output_type": "stream",
          "name": "stdout",
          "text": [
            "\n",
            "Password Manager Menu:\n",
            "1. Add/Update Password\n",
            "2. View Passwords\n",
            "3. Exit\n",
            "Enter your choice (1/2/3): 1\n",
            "Enter the category for the password: 4\n",
            "Enter the password: ··········\n",
            "Password for 4 added/updated successfully!\n",
            "\n",
            "Password Manager Menu:\n",
            "1. Add/Update Password\n",
            "2. View Passwords\n",
            "3. Exit\n",
            "Enter your choice (1/2/3): 2\n",
            "\n",
            "Stored Passwords:\n",
            "4: sam123\n",
            "\n",
            "Password Manager Menu:\n",
            "1. Add/Update Password\n",
            "2. View Passwords\n",
            "3. Exit\n",
            "Enter your choice (1/2/3): 3\n",
            "Exiting Password Manager. Goodbye!\n"
          ]
        }
      ],
      "source": [
        "import json\n",
        "import getpass\n",
        "import base64\n",
        "from cryptography.fernet import Fernet\n",
        "\n",
        "# Generate a key for encryption\n",
        "def generate_key():\n",
        "    return Fernet.generate_key()\n",
        "\n",
        "# Encrypt a password using the key\n",
        "def encrypt_password(key, password):\n",
        "    cipher_suite = Fernet(key)\n",
        "    cipher_text = cipher_suite.encrypt(password.encode())\n",
        "    return cipher_text\n",
        "\n",
        "# Decrypt a password using the key\n",
        "def decrypt_password(key, encrypted_password):\n",
        "    cipher_suite = Fernet(key)\n",
        "    plain_text = cipher_suite.decrypt(encrypted_password).decode()\n",
        "    return plain_text\n",
        "\n",
        "# Save passwords to a file\n",
        "def save_passwords(passwords, filename, key):\n",
        "    encrypted_passwords = {category: base64.b64encode(encrypt_password(key, password)).decode('utf-8') for category, password in passwords.items()}\n",
        "    with open(filename, 'w') as file:\n",
        "        json.dump(encrypted_passwords, file)\n",
        "\n",
        "# Load passwords from a file\n",
        "def load_passwords(filename, key):\n",
        "    try:\n",
        "        with open(filename, 'r') as file:\n",
        "            encrypted_passwords = json.load(file)\n",
        "            decrypted_passwords = {category: decrypt_password(key, password) for category, password in encrypted_passwords.items()}\n",
        "            return decrypted_passwords\n",
        "    except (json.JSONDecodeError, FileNotFoundError):\n",
        "        return {}\n",
        "\n",
        "# Main function\n",
        "def main():\n",
        "    key = generate_key()\n",
        "    password_file = 'passwords.json'\n",
        "    passwords = load_passwords(password_file, key)\n",
        "\n",
        "    while True:\n",
        "        print(\"\\nPassword Manager Menu:\")\n",
        "        print(\"1. Add/Update Password\")\n",
        "        print(\"2. View Passwords\")\n",
        "        print(\"3. Exit\")\n",
        "\n",
        "        choice = input(\"Enter your choice (1/2/3): \")\n",
        "\n",
        "        if choice == '1':\n",
        "            category = input(\"Enter the category for the password: \")\n",
        "            password = getpass.getpass(\"Enter the password: \")\n",
        "            passwords[category] = password\n",
        "            save_passwords(passwords, password_file, key)\n",
        "            print(f\"Password for {category} added/updated successfully!\")\n",
        "\n",
        "        elif choice == '2':\n",
        "            print(\"\\nStored Passwords:\")\n",
        "            for category, password in passwords.items():\n",
        "                print(f\"{category}: {password}\")\n",
        "\n",
        "        elif choice == '3':\n",
        "            print(\"Exiting Password Manager. Goodbye!\")\n",
        "            break\n",
        "\n",
        "        else:\n",
        "            print(\"Invalid choice. Please enter 1, 2, or 3.\")\n",
        "\n",
        "if __name__ == \"__main__\":\n",
        "    main()\n"
      ]
    }
  ]
}